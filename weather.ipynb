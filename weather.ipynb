{
 "cells": [
  {
   "cell_type": "markdown",
   "metadata": {},
   "source": [
    "# This notebook contains a short description of how each task (1-7) were completed, including an explanation of commands used"
   ]
  },
  {
   "cell_type": "markdown",
   "metadata": {
    "vscode": {
     "languageId": "plaintext"
    }
   },
   "source": [
    "## Task 1\n",
    "##### First I set up a repository on Github and included an appropriate .gitignore file. \n",
    "To make the 'data' directory, I used the command **mkdir data** \n",
    "To make the two subdirectories, I used the commands **mkdir data/weather** and **mkdir data/timestamps**\n",
    "\n",
    "It was necessary to create the data directory first and then add the subdirectories as adding the subdirectories \n",
    "without first creating the directory would cause an error"
   ]
  },
  {
   "cell_type": "markdown",
   "metadata": {
    "vscode": {
     "languageId": "plaintext"
    }
   },
   "source": [
    "## Task 2\n",
    "##### I first navigated to the data/timestamps subdirectory. To get the current date and time, I used the command **date**\n",
    "This returned the current date and time in the format \"%a %b %d %H:%M:%S %Z %Y\"\n",
    "\n",
    "To create the file now.txt and append the date, I used the command **date >> now.txt** \n",
    "\n",
    "I had originally amended the format of the date to \"%Y%m%d_%H&M&S\" but realised this was not part of the instruction for this task, so I amended this at a later date\n",
    "\n",
    "The >> command appends the file instead of overwriting so that the commmand can be repeated and no data is overwritten\n",
    "\n",
    "I repeated the command above 10 times and then used the command **more now.txt** to view the contents of the file and ensure each timestamp was appended to it. "
   ]
  },
  {
   "cell_type": "markdown",
   "metadata": {
    "vscode": {
     "languageId": "plaintext"
    }
   },
   "source": [
    "## Task 3\n",
    "##### To return the date and time in a different format, I used the command **date +\"%Y%m%d_%H%M%S\"** \n",
    "\n",
    "To create the file formatted.txt and append the date in the new format, \n",
    "I used the command **date +\"%Y%m%d_%H%M%S\" >> formatted.txt**"
   ]
  },
  {
   "cell_type": "markdown",
   "metadata": {
    "vscode": {
     "languageId": "plaintext"
    }
   },
   "source": [
    "## Task 4\n",
    "##### The touch command allows a user to create an empty file with a specified file name. \n",
    "To create a file with the current date and time as the file name, I used the command **touch `date +\"%Y%m%d_%H%M%S\".txt`**"
   ]
  },
  {
   "cell_type": "markdown",
   "metadata": {
    "vscode": {
     "languageId": "plaintext"
    }
   },
   "source": [
    "## Task 5\n",
    "##### I first navigated to the data/weather subdirectory. \n",
    "\n",
    "I used the **wget** command to download the latest weather data for the Athenry weather station from Met Eireann. \n",
    "\n",
    "To create a new file called weather.json including the downloaded data, I used the command **wget -O weather.json https://prodapi.metweb.ie/observations/athenry/today**\n",
    "The **wget -O** command allows the user to specify the name of the file the data should be saved to.\n"
   ]
  },
  {
   "cell_type": "markdown",
   "metadata": {
    "vscode": {
     "languageId": "plaintext"
    }
   },
   "source": [
    "## Task 6\n",
    "##### To save the downloaded weather data to a file with the current date and time in the file name, \n",
    "I modified the command from the task above to\n",
    "**wget -O `date +\"%Y%m%d_%H%M%S\".json` https://prodapi.metweb.ie/observations/athenry/today** \n",
    "\n",
    "This command combines the **wget -O** command with the **date** command using backticks to allow the date to be stored as the file name.\n",
    "\n",
    "I deleted the file and repeated this command at a later date to ensure it was working correctly. "
   ]
  },
  {
   "cell_type": "markdown",
   "metadata": {
    "vscode": {
     "languageId": "plaintext"
    }
   },
   "source": [
    "## Task 7\n",
    "##### I created a file called weather.sh in the root of my repository. \n",
    ".sh files are shell scripts which run the commands contained within them when executed.\n",
    "\n",
    "I added **#! /bin/bash** to the first line of the script which specifies which interpreter to run when interpreting the contained. \n",
    "This script will be interpreted and run using the bash shell\n",
    "\n",
    "I then wrote the command **wget -O data/weather/`date +\"%Y%m%d_%H%M%S.json\"` https://prodapi.metweb.ie/observations/athenry/today**\n",
    "\n",
    "When run, this script will create a .json file with the current date and time as the file name, \n",
    "and containing the up-to-date weather data for the Athenry weather station. The file will be stored to the data/weather subdirectory.\n",
    "\n",
    "When attempting to execute the script, I received an error that permission was denied.\n",
    "I used the command **chmod u+x ./weather.sh** This allows the user (u) to execute (x) the script. \n",
    "\n",
    "I then ran the script using the command **./weather.sh** which created the file in the data/weather subdirectory\n"
   ]
  },
  {
   "cell_type": "markdown",
   "metadata": {},
   "source": []
  }
 ],
 "metadata": {
  "language_info": {
   "name": "python"
  }
 },
 "nbformat": 4,
 "nbformat_minor": 2
}
